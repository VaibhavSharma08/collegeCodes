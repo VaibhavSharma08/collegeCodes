{
 "cells": [
  {
   "cell_type": "code",
   "execution_count": null,
   "metadata": {
    "id": "CNOLLH_ljuPe",
    "pycharm": {
     "is_executing": true
    }
   },
   "outputs": [],
   "source": [
    "import pandas as pd\n",
    "import numpy as np"
   ]
  },
  {
   "cell_type": "code",
   "execution_count": 4,
   "metadata": {
    "colab": {
     "base_uri": "https://localhost:8080/",
     "height": 363
    },
    "id": "RlEKZBhJj2Uc",
    "outputId": "ed8270e9-ff81-4fb1-e661-d60c166e7c19"
   },
   "outputs": [
    {
     "data": {
      "text/html": [
       "<div>\n",
       "<style scoped>\n",
       "    .dataframe tbody tr th:only-of-type {\n",
       "        vertical-align: middle;\n",
       "    }\n",
       "\n",
       "    .dataframe tbody tr th {\n",
       "        vertical-align: top;\n",
       "    }\n",
       "\n",
       "    .dataframe thead th {\n",
       "        text-align: right;\n",
       "    }\n",
       "</style>\n",
       "<table border=\"1\" class=\"dataframe\">\n",
       "  <thead>\n",
       "    <tr style=\"text-align: right;\">\n",
       "      <th></th>\n",
       "      <th>user_0</th>\n",
       "      <th>user_1</th>\n",
       "      <th>user_2</th>\n",
       "      <th>user_3</th>\n",
       "      <th>user_4</th>\n",
       "      <th>user_5</th>\n",
       "      <th>user_6</th>\n",
       "      <th>user_7</th>\n",
       "      <th>user_8</th>\n",
       "      <th>user_9</th>\n",
       "    </tr>\n",
       "  </thead>\n",
       "  <tbody>\n",
       "    <tr>\n",
       "      <th>movie_0</th>\n",
       "      <td>0</td>\n",
       "      <td>0</td>\n",
       "      <td>3</td>\n",
       "      <td>4</td>\n",
       "      <td>2</td>\n",
       "      <td>1</td>\n",
       "      <td>2</td>\n",
       "      <td>0</td>\n",
       "      <td>5</td>\n",
       "      <td>1</td>\n",
       "    </tr>\n",
       "    <tr>\n",
       "      <th>movie_1</th>\n",
       "      <td>3</td>\n",
       "      <td>0</td>\n",
       "      <td>1</td>\n",
       "      <td>3</td>\n",
       "      <td>0</td>\n",
       "      <td>0</td>\n",
       "      <td>0</td>\n",
       "      <td>0</td>\n",
       "      <td>0</td>\n",
       "      <td>0</td>\n",
       "    </tr>\n",
       "    <tr>\n",
       "      <th>movie_2</th>\n",
       "      <td>0</td>\n",
       "      <td>3</td>\n",
       "      <td>0</td>\n",
       "      <td>4</td>\n",
       "      <td>0</td>\n",
       "      <td>2</td>\n",
       "      <td>0</td>\n",
       "      <td>0</td>\n",
       "      <td>0</td>\n",
       "      <td>2</td>\n",
       "    </tr>\n",
       "    <tr>\n",
       "      <th>movie_3</th>\n",
       "      <td>5</td>\n",
       "      <td>2</td>\n",
       "      <td>3</td>\n",
       "      <td>2</td>\n",
       "      <td>0</td>\n",
       "      <td>4</td>\n",
       "      <td>3</td>\n",
       "      <td>3</td>\n",
       "      <td>0</td>\n",
       "      <td>0</td>\n",
       "    </tr>\n",
       "    <tr>\n",
       "      <th>movie_4</th>\n",
       "      <td>0</td>\n",
       "      <td>5</td>\n",
       "      <td>5</td>\n",
       "      <td>0</td>\n",
       "      <td>0</td>\n",
       "      <td>0</td>\n",
       "      <td>0</td>\n",
       "      <td>0</td>\n",
       "      <td>5</td>\n",
       "      <td>4</td>\n",
       "    </tr>\n",
       "    <tr>\n",
       "      <th>movie_5</th>\n",
       "      <td>0</td>\n",
       "      <td>0</td>\n",
       "      <td>0</td>\n",
       "      <td>0</td>\n",
       "      <td>4</td>\n",
       "      <td>0</td>\n",
       "      <td>4</td>\n",
       "      <td>2</td>\n",
       "      <td>3</td>\n",
       "      <td>0</td>\n",
       "    </tr>\n",
       "    <tr>\n",
       "      <th>movie_6</th>\n",
       "      <td>4</td>\n",
       "      <td>4</td>\n",
       "      <td>0</td>\n",
       "      <td>0</td>\n",
       "      <td>4</td>\n",
       "      <td>4</td>\n",
       "      <td>3</td>\n",
       "      <td>4</td>\n",
       "      <td>0</td>\n",
       "      <td>4</td>\n",
       "    </tr>\n",
       "    <tr>\n",
       "      <th>movie_7</th>\n",
       "      <td>5</td>\n",
       "      <td>0</td>\n",
       "      <td>4</td>\n",
       "      <td>2</td>\n",
       "      <td>3</td>\n",
       "      <td>0</td>\n",
       "      <td>3</td>\n",
       "      <td>3</td>\n",
       "      <td>3</td>\n",
       "      <td>3</td>\n",
       "    </tr>\n",
       "    <tr>\n",
       "      <th>movie_8</th>\n",
       "      <td>0</td>\n",
       "      <td>3</td>\n",
       "      <td>0</td>\n",
       "      <td>0</td>\n",
       "      <td>5</td>\n",
       "      <td>5</td>\n",
       "      <td>0</td>\n",
       "      <td>4</td>\n",
       "      <td>0</td>\n",
       "      <td>0</td>\n",
       "    </tr>\n",
       "    <tr>\n",
       "      <th>movie_9</th>\n",
       "      <td>2</td>\n",
       "      <td>0</td>\n",
       "      <td>0</td>\n",
       "      <td>0</td>\n",
       "      <td>0</td>\n",
       "      <td>0</td>\n",
       "      <td>0</td>\n",
       "      <td>0</td>\n",
       "      <td>4</td>\n",
       "      <td>0</td>\n",
       "    </tr>\n",
       "  </tbody>\n",
       "</table>\n",
       "</div>"
      ],
      "text/plain": [
       "         user_0  user_1  user_2  user_3  user_4  user_5  user_6  user_7  \\\n",
       "movie_0       0       0       3       4       2       1       2       0   \n",
       "movie_1       3       0       1       3       0       0       0       0   \n",
       "movie_2       0       3       0       4       0       2       0       0   \n",
       "movie_3       5       2       3       2       0       4       3       3   \n",
       "movie_4       0       5       5       0       0       0       0       0   \n",
       "movie_5       0       0       0       0       4       0       4       2   \n",
       "movie_6       4       4       0       0       4       4       3       4   \n",
       "movie_7       5       0       4       2       3       0       3       3   \n",
       "movie_8       0       3       0       0       5       5       0       4   \n",
       "movie_9       2       0       0       0       0       0       0       0   \n",
       "\n",
       "         user_8  user_9  \n",
       "movie_0       5       1  \n",
       "movie_1       0       0  \n",
       "movie_2       0       2  \n",
       "movie_3       0       0  \n",
       "movie_4       5       4  \n",
       "movie_5       3       0  \n",
       "movie_6       0       4  \n",
       "movie_7       3       3  \n",
       "movie_8       0       0  \n",
       "movie_9       4       0  "
      ]
     },
     "execution_count": 4,
     "metadata": {},
     "output_type": "execute_result"
    }
   ],
   "source": [
    "df = pd.DataFrame({'user_0':[0,3,0,5,0,0,4,5,0,2], 'user_1':[0,0,3,2,5,0,4,0,3,0], 'user_2':[3,1,0,3,5,0,0,4,0,0], 'user_3':[4,3,4,2,0,0,0,2,0,0], \n",
    "                   'user_4':[2,0,0,0,0,4,4,3,5,0], 'user_5':[1,0,2,4,0,0,4,0,5,0], 'user_6':[2,0,0,3,0,4,3,3,0,0], 'user_7':[0,0,0,3,0,2,4,3,4,0], \n",
    "                   'user_8':[5,0,0,0,5,3,0,3,0,4], 'user_9':[1,0,2,0,4,0,4,3,0,0]}, \n",
    "                  index=['movie_0','movie_1','movie_2','movie_3','movie_4','movie_5','movie_6','movie_7','movie_8','movie_9'])\n",
    "df"
   ]
  },
  {
   "cell_type": "code",
   "execution_count": 5,
   "metadata": {
    "colab": {
     "base_uri": "https://localhost:8080/"
    },
    "id": "1CNpHpW_j8d9",
    "outputId": "119856c7-a14b-43c6-dded-001b9f8a27e8"
   },
   "outputs": [
    {
     "data": {
      "text/plain": [
       "array([[0, 0, 3, 4, 2, 1, 2, 0, 5, 1],\n",
       "       [3, 0, 1, 3, 0, 0, 0, 0, 0, 0],\n",
       "       [0, 3, 0, 4, 0, 2, 0, 0, 0, 2],\n",
       "       [5, 2, 3, 2, 0, 4, 3, 3, 0, 0],\n",
       "       [0, 5, 5, 0, 0, 0, 0, 0, 5, 4],\n",
       "       [0, 0, 0, 0, 4, 0, 4, 2, 3, 0],\n",
       "       [4, 4, 0, 0, 4, 4, 3, 4, 0, 4],\n",
       "       [5, 0, 4, 2, 3, 0, 3, 3, 3, 3],\n",
       "       [0, 3, 0, 0, 5, 5, 0, 4, 0, 0],\n",
       "       [2, 0, 0, 0, 0, 0, 0, 0, 4, 0]])"
      ]
     },
     "execution_count": 5,
     "metadata": {},
     "output_type": "execute_result"
    }
   ],
   "source": [
    "df.values"
   ]
  },
  {
   "cell_type": "code",
   "execution_count": 6,
   "metadata": {
    "id": "KFyAHYncj_JB"
   },
   "outputs": [],
   "source": [
    "from sklearn.neighbors import NearestNeighbors\n",
    "knn = NearestNeighbors(metric='cosine', algorithm='brute')\n",
    "knn.fit(df.values)\n",
    "distances, indices = knn.kneighbors(df.values, n_neighbors=3)"
   ]
  },
  {
   "cell_type": "code",
   "execution_count": 7,
   "metadata": {
    "colab": {
     "base_uri": "https://localhost:8080/"
    },
    "id": "Efs0p-ilkCMq",
    "outputId": "244ccfa7-e0f7-49a9-9112-9c86ae9d5c4e"
   },
   "outputs": [
    {
     "data": {
      "text/plain": [
       "array([[0, 7, 5],\n",
       "       [1, 3, 7],\n",
       "       [2, 1, 6],\n",
       "       [3, 6, 7],\n",
       "       [4, 0, 7],\n",
       "       [5, 7, 0],\n",
       "       [6, 8, 3],\n",
       "       [7, 3, 0],\n",
       "       [8, 6, 3],\n",
       "       [9, 0, 7]])"
      ]
     },
     "execution_count": 7,
     "metadata": {},
     "output_type": "execute_result"
    }
   ],
   "source": [
    "indices"
   ]
  },
  {
   "cell_type": "code",
   "execution_count": 8,
   "metadata": {
    "colab": {
     "base_uri": "https://localhost:8080/"
    },
    "id": "av-kIMmgkDjp",
    "outputId": "942c6280-7ef7-466f-967b-c69847efa3d3"
   },
   "outputs": [
    {
     "data": {
      "text/plain": [
       "array([[0.00000000e+00, 3.19586183e-01, 4.03404722e-01],\n",
       "       [4.44089210e-16, 3.68421053e-01, 3.95436458e-01],\n",
       "       [0.00000000e+00, 5.20766162e-01, 5.24329288e-01],\n",
       "       [2.22044605e-16, 2.72367798e-01, 2.86615021e-01],\n",
       "       [0.00000000e+00, 4.04534842e-01, 4.80655057e-01],\n",
       "       [0.00000000e+00, 3.87174123e-01, 4.03404722e-01],\n",
       "       [0.00000000e+00, 2.33726809e-01, 2.72367798e-01],\n",
       "       [1.11022302e-16, 2.86615021e-01, 3.19586183e-01],\n",
       "       [2.22044605e-16, 2.33726809e-01, 4.96677704e-01],\n",
       "       [1.11022302e-16, 4.22649731e-01, 4.81455027e-01]])"
      ]
     },
     "execution_count": 8,
     "metadata": {},
     "output_type": "execute_result"
    }
   ],
   "source": [
    "distances"
   ]
  },
  {
   "cell_type": "code",
   "execution_count": 9,
   "metadata": {
    "colab": {
     "base_uri": "https://localhost:8080/"
    },
    "id": "TkKJeE8ekH0y",
    "outputId": "9e2a68ee-200b-4828-d59b-1dd3ea8dbcd9"
   },
   "outputs": [
    {
     "name": "stdout",
     "output_type": "stream",
     "text": [
      "Similar Movies to movie_0:\n",
      "\n",
      "1: movie_7, the distance with movie_0: 0.3195861825602283\n",
      "2: movie_5, the distance with movie_0: 0.40340472183738674\n",
      "\n",
      "\n",
      "Similar Movies to movie_1:\n",
      "\n",
      "1: movie_3, the distance with movie_1: 0.3684210526315791\n",
      "2: movie_7, the distance with movie_1: 0.39543645824165696\n",
      "\n",
      "\n",
      "Similar Movies to movie_2:\n",
      "\n",
      "1: movie_1, the distance with movie_2: 0.5207661617014769\n",
      "2: movie_6, the distance with movie_2: 0.5243292879915494\n",
      "\n",
      "\n",
      "Similar Movies to movie_3:\n",
      "\n",
      "1: movie_6, the distance with movie_3: 0.27236779788557686\n",
      "2: movie_7, the distance with movie_3: 0.2866150207251553\n",
      "\n",
      "\n",
      "Similar Movies to movie_4:\n",
      "\n",
      "1: movie_0, the distance with movie_4: 0.40453484184315647\n",
      "2: movie_7, the distance with movie_4: 0.4806550570967598\n",
      "\n",
      "\n",
      "Similar Movies to movie_5:\n",
      "\n",
      "1: movie_7, the distance with movie_5: 0.38717412297165876\n",
      "2: movie_0, the distance with movie_5: 0.40340472183738674\n",
      "\n",
      "\n",
      "Similar Movies to movie_6:\n",
      "\n",
      "1: movie_8, the distance with movie_6: 0.23372680904614496\n",
      "2: movie_3, the distance with movie_6: 0.27236779788557686\n",
      "\n",
      "\n",
      "Similar Movies to movie_7:\n",
      "\n",
      "1: movie_3, the distance with movie_7: 0.2866150207251553\n",
      "2: movie_0, the distance with movie_7: 0.3195861825602283\n",
      "\n",
      "\n",
      "Similar Movies to movie_8:\n",
      "\n",
      "1: movie_6, the distance with movie_8: 0.23372680904614496\n",
      "2: movie_3, the distance with movie_8: 0.49667770431528346\n",
      "\n",
      "\n",
      "Similar Movies to movie_9:\n",
      "\n",
      "1: movie_0, the distance with movie_9: 0.42264973081037427\n",
      "2: movie_7, the distance with movie_9: 0.4814550271298651\n",
      "\n",
      "\n"
     ]
    }
   ],
   "source": [
    "for title in df.index:\n",
    "\n",
    "  index_user_likes = df.index.tolist().index(title) # get an index for a movie\n",
    "  sim_movies = indices[index_user_likes].tolist() # make list for similar movies\n",
    "  movie_distances = distances[index_user_likes].tolist() # the list for distances of similar movies\n",
    "  id_movie = sim_movies.index(index_user_likes) # get the position of the movie itself in indices and distances\n",
    "\n",
    "  print('Similar Movies to '+str(df.index[index_user_likes])+':\\n')\n",
    "\n",
    "\n",
    "  sim_movies.remove(index_user_likes) # remove the movie itself in indices\n",
    "  movie_distances.pop(id_movie) # remove the movie itself in distances\n",
    "\n",
    "  j = 1\n",
    "  \n",
    "  for i in sim_movies:\n",
    "    print(str(j)+': '+str(df.index[i])+', the distance with '+str(title)+': '+str(movie_distances[j-1]))\n",
    "    j = j + 1\n",
    "      \n",
    "  print('\\n')"
   ]
  },
  {
   "cell_type": "code",
   "execution_count": null,
   "metadata": {
    "id": "TDbREO_QkIOQ"
   },
   "outputs": [],
   "source": []
  },
  {
   "cell_type": "markdown",
   "metadata": {
    "id": "L0aTWbU-kLhC"
   },
   "source": [
    "# Recommend Similar movies to selected movie"
   ]
  },
  {
   "cell_type": "code",
   "execution_count": 10,
   "metadata": {
    "id": "KTwPdwxkkN7r"
   },
   "outputs": [],
   "source": [
    "def recommend_movie(title):\n",
    "\n",
    "  index_user_likes = df.index.tolist().index(title) # get an index for a movie\n",
    "  sim_movies = indices[index_user_likes].tolist() # make list for similar movies\n",
    "  movie_distances = distances[index_user_likes].tolist() # the list for distances of similar movies\n",
    "  id_movie = sim_movies.index(index_user_likes) # get the position of the movie itself in indices and distances\n",
    "\n",
    "  print('Similar Movies to '+str(df.index[index_user_likes])+': \\n')\n",
    "\n",
    "  sim_movies.remove(index_user_likes) # remove the movie itself in indices\n",
    "  movie_distances.pop(id_movie) # remove the movie itself in distances\n",
    "\n",
    "  j = 1\n",
    "    \n",
    "  for i in sim_movies:\n",
    "    print(str(j)+': '+str(df.index[i])+', the distance with '+str(title)+': '+str(movie_distances[j-1]))\n",
    "    j = j + 1"
   ]
  },
  {
   "cell_type": "code",
   "execution_count": 11,
   "metadata": {
    "colab": {
     "base_uri": "https://localhost:8080/"
    },
    "id": "Oq2VBeIxkPTZ",
    "outputId": "cc20e7c0-f955-4abf-fd9b-f7e076ed483a"
   },
   "outputs": [
    {
     "name": "stdout",
     "output_type": "stream",
     "text": [
      "Similar Movies to movie_2: \n",
      "\n",
      "1: movie_1, the distance with movie_2: 0.5207661617014769\n",
      "2: movie_6, the distance with movie_2: 0.5243292879915494\n"
     ]
    }
   ],
   "source": [
    "recommend_movie('movie_2')"
   ]
  },
  {
   "cell_type": "code",
   "execution_count": null,
   "metadata": {
    "id": "Do2mTZ16kRI1"
   },
   "outputs": [],
   "source": []
  },
  {
   "cell_type": "markdown",
   "metadata": {
    "id": "1HxYwAhlkVo8"
   },
   "source": [
    "# Recommend Similar movie to selected User"
   ]
  },
  {
   "cell_type": "code",
   "execution_count": 12,
   "metadata": {
    "id": "izaPK3NykY8p"
   },
   "outputs": [],
   "source": [
    "knn = NearestNeighbors(metric='cosine', algorithm='brute')\n",
    "knn.fit(df.values)\n",
    "distances, indices = knn.kneighbors(df.values, n_neighbors=3)"
   ]
  },
  {
   "cell_type": "code",
   "execution_count": 13,
   "metadata": {
    "colab": {
     "base_uri": "https://localhost:8080/"
    },
    "id": "OUJYfmJ0kdwB",
    "outputId": "63778925-2418-4d90-c739-928c8a39516e"
   },
   "outputs": [
    {
     "name": "stdout",
     "output_type": "stream",
     "text": [
      "The Nearest Movies to movie_0: [7, 5]\n",
      "The Distance from movie_0: [0.3195861825602283, 0.40340472183738674]\n"
     ]
    }
   ],
   "source": [
    "index_for_movie = df.index.tolist().index('movie_0') # it returns 0\n",
    "sim_movies = indices[index_for_movie].tolist() # make list for similar movies\n",
    "movie_distances = distances[index_for_movie].tolist() # the list for distances of similar movies\n",
    "id_movie = sim_movies.index(index_for_movie) # get the position of the movie itself in indices and distances\n",
    "sim_movies.remove(index_for_movie) # remove the movie itself in indices\n",
    "movie_distances.pop(id_movie) # remove the movie itself in distances\n",
    "\n",
    "print('The Nearest Movies to movie_0:', sim_movies)\n",
    "print('The Distance from movie_0:', movie_distances)"
   ]
  },
  {
   "cell_type": "code",
   "execution_count": 14,
   "metadata": {
    "colab": {
     "base_uri": "https://localhost:8080/"
    },
    "id": "NSZo34rwkfmr",
    "outputId": "82880516-fbef-4920-f7f4-314452dbd798"
   },
   "outputs": [
    {
     "name": "stdout",
     "output_type": "stream",
     "text": [
      "2.5328183015946415\n"
     ]
    }
   ],
   "source": [
    "movie_similarity = [-x+1 for x in movie_distances] # inverse distance \n",
    "\n",
    "predicted_rating = (movie_similarity[0]*df.iloc[sim_movies[0],7] + movie_similarity[1]*df.iloc[sim_movies[1],7])/sum(movie_similarity)\n",
    "print(predicted_rating)"
   ]
  },
  {
   "cell_type": "code",
   "execution_count": null,
   "metadata": {
    "id": "MVagIYlhkiKe"
   },
   "outputs": [],
   "source": []
  },
  {
   "cell_type": "markdown",
   "metadata": {
    "id": "lEgCQ_ZsknK8"
   },
   "source": [
    "# Building a recommender"
   ]
  },
  {
   "cell_type": "code",
   "execution_count": 15,
   "metadata": {
    "id": "gAbaf4DIkocX"
   },
   "outputs": [],
   "source": [
    "# find the nearest neighbors using NearestNeighbors(n_neighbors=3)\n",
    "number_neighbors = 3\n",
    "knn = NearestNeighbors(metric='cosine', algorithm='brute')\n",
    "knn.fit(df.values)\n",
    "distances, indices = knn.kneighbors(df.values, n_neighbors=number_neighbors)\n",
    "\n",
    "# copy df\n",
    "df1 = df.copy()\n",
    "\n",
    "# convert user_name to user_index\n",
    "user_index = df.columns.tolist().index('user_4')\n",
    "\n",
    "# t: movie_title, m: the row number of t in df\n",
    "for m,t in list(enumerate(df.index)):\n",
    "  \n",
    "  # find movies without ratings by user_4\n",
    "  if df.iloc[m, user_index] == 0:\n",
    "    sim_movies = indices[m].tolist()\n",
    "    movie_distances = distances[m].tolist()\n",
    "    \n",
    "    # Generally, this is the case: indices[3] = [3 6 7]. The movie itself is in the first place.\n",
    "    # In this case, we take off 3 from the list. Then, indices[3] == [6 7] to have the nearest NEIGHBORS in the list. \n",
    "    if m in sim_movies:\n",
    "      id_movie = sim_movies.index(m)\n",
    "      sim_movies.remove(m)\n",
    "      movie_distances.pop(id_movie) \n",
    "\n",
    "    # However, if the percentage of ratings in the dataset is very low, there are too many 0s in the dataset. \n",
    "    # Some movies have all 0 ratings and the movies with all 0s are considered the same movies by NearestNeighbors(). \n",
    "    # Then,even the movie itself cannot be included in the indices. \n",
    "    # For example, indices[3] = [2 4 7] is possible if movie_2, movie_3, movie_4, and movie_7 have all 0s for their ratings.\n",
    "    # In that case, we take off the farthest movie in the list. Therefore, 7 is taken off from the list, then indices[3] == [2 4].\n",
    "    else:\n",
    "      sim_movies = sim_movies[:number_neighbors-1]\n",
    "      movie_distances = movie_distances[:number_neighbors-1]\n",
    "        \n",
    "      # movie_similarty = 1 - movie_distance    \n",
    "    movie_similarity = [1-x for x in movie_distances]\n",
    "    movie_similarity_copy = movie_similarity.copy()\n",
    "    nominator = 0\n",
    "\n",
    "    # for each similar movie\n",
    "    for s in range(0, len(movie_similarity)):\n",
    "      \n",
    "      # check if the rating of a similar movie is zero\n",
    "      if df.iloc[sim_movies[s], user_index] == 0:\n",
    "\n",
    "        # if the rating is zero, ignore the rating and the similarity in calculating the predicted rating\n",
    "        if len(movie_similarity_copy) == (number_neighbors - 1):\n",
    "          movie_similarity_copy.pop(s)\n",
    "          \n",
    "        else:\n",
    "          movie_similarity_copy.pop(s-(len(movie_similarity)-len(movie_similarity_copy)))\n",
    "\n",
    "      # if the rating is not zero, use the rating and similarity in the calculation\n",
    "      else:\n",
    "        nominator = nominator + movie_similarity[s]*df.iloc[sim_movies[s],user_index]\n",
    "\n",
    "    # check if the number of the ratings with non-zero is positive\n",
    "    if len(movie_similarity_copy) > 0:\n",
    "      \n",
    "      # check if the sum of the ratings of the similar movies is positive.\n",
    "      if sum(movie_similarity_copy) > 0:\n",
    "        predicted_r = nominator/sum(movie_similarity_copy)\n",
    "\n",
    "      # Even if there are some movies for which the ratings are positive, some movies have zero similarity even though they are selected as similar movies.\n",
    "      # in this case, the predicted rating becomes zero as well  \n",
    "      else:\n",
    "        predicted_r = 0\n",
    "    # if all the ratings of the similar movies are zero, then predicted rating should be zero\n",
    "    else:\n",
    "      predicted_r = 0\n",
    "\n",
    "  # place the predicted rating into the copy of the original dataset\n",
    "    df1.iloc[m,user_index] = predicted_r"
   ]
  },
  {
   "cell_type": "code",
   "execution_count": 16,
   "metadata": {
    "id": "i79ay-gAkzmV"
   },
   "outputs": [],
   "source": [
    "def recommend_movies(user, num_recommended_movies):\n",
    "\n",
    "  print('The list of the Movies {} Has Watched \\n'.format(user))\n",
    "\n",
    "  for m in df[df[user] > 0][user].index.tolist():\n",
    "    print(m)\n",
    "  \n",
    "  print('\\n')\n",
    "\n",
    "  recommended_movies = []\n",
    "\n",
    "  for m in df[df[user] == 0].index.tolist():\n",
    "\n",
    "    index_df = df.index.tolist().index(m)\n",
    "    predicted_rating = df1.iloc[index_df, df1.columns.tolist().index(user)]\n",
    "    recommended_movies.append((m, predicted_rating))\n",
    "\n",
    "  sorted_rm = sorted(recommended_movies, key=lambda x:x[1], reverse=True)\n",
    "  \n",
    "  print('The list of the Recommended Movies \\n')\n",
    "  rank = 1\n",
    "  for recommended_movie in sorted_rm[:num_recommended_movies]:\n",
    "    \n",
    "    print('{}: {} - predicted rating:{}'.format(rank, recommended_movie[0], recommended_movie[1]))\n",
    "    rank = rank + 1"
   ]
  },
  {
   "cell_type": "code",
   "execution_count": 17,
   "metadata": {
    "colab": {
     "base_uri": "https://localhost:8080/"
    },
    "id": "HAcx_7mvk2Pl",
    "outputId": "cad85301-aa34-4f1c-8390-e1c2293fd197"
   },
   "outputs": [
    {
     "name": "stdout",
     "output_type": "stream",
     "text": [
      "The list of the Movies user_4 Has Watched \n",
      "\n",
      "movie_0\n",
      "movie_5\n",
      "movie_6\n",
      "movie_7\n",
      "movie_8\n",
      "\n",
      "\n",
      "The list of the Recommended Movies \n",
      "\n",
      "1: movie_2 - predicted rating:4.0\n",
      "2: movie_3 - predicted rating:3.504943460433221\n",
      "3: movie_1 - predicted rating:3.0\n",
      "4: movie_9 - predicted rating:2.473170201830165\n",
      "5: movie_4 - predicted rating:2.4658595597666277\n"
     ]
    }
   ],
   "source": [
    "recommend_movies('user_4',5)"
   ]
  },
  {
   "cell_type": "code",
   "execution_count": 18,
   "metadata": {
    "id": "SRqv2akJk3oN"
   },
   "outputs": [],
   "source": [
    "df1 = df.copy()\n",
    "\n",
    "def movie_recommender(user, num_neighbors, num_recommendation):\n",
    "  \n",
    "  number_neighbors = num_neighbors\n",
    "\n",
    "  knn = NearestNeighbors(metric='cosine', algorithm='brute')\n",
    "  knn.fit(df.values)\n",
    "  distances, indices = knn.kneighbors(df.values, n_neighbors=number_neighbors)\n",
    "\n",
    "  user_index = df.columns.tolist().index(user)\n",
    "\n",
    "  for m,t in list(enumerate(df.index)):\n",
    "    if df.iloc[m, user_index] == 0:\n",
    "      sim_movies = indices[m].tolist()\n",
    "      movie_distances = distances[m].tolist()\n",
    "    \n",
    "      if m in sim_movies:\n",
    "        id_movie = sim_movies.index(m)\n",
    "        sim_movies.remove(m)\n",
    "        movie_distances.pop(id_movie) \n",
    "\n",
    "      else:\n",
    "        sim_movies = sim_movies[:num_neighbors-1]\n",
    "        movie_distances = movie_distances[:num_neighbors-1]\n",
    "           \n",
    "      movie_similarity = [1-x for x in movie_distances]\n",
    "      movie_similarity_copy = movie_similarity.copy()\n",
    "      nominator = 0\n",
    "\n",
    "      for s in range(0, len(movie_similarity)):\n",
    "        if df.iloc[sim_movies[s], user_index] == 0:\n",
    "          if len(movie_similarity_copy) == (number_neighbors - 1):\n",
    "            movie_similarity_copy.pop(s)\n",
    "          else:\n",
    "            movie_similarity_copy.pop(s-(len(movie_similarity)-len(movie_similarity_copy)))\n",
    "            \n",
    "        else:\n",
    "          nominator = nominator + movie_similarity[s]*df.iloc[sim_movies[s],user_index]\n",
    "          \n",
    "      if len(movie_similarity_copy) > 0:\n",
    "        if sum(movie_similarity_copy) > 0:\n",
    "          predicted_r = nominator/sum(movie_similarity_copy)\n",
    "        \n",
    "        else:\n",
    "          predicted_r = 0\n",
    "\n",
    "      else:\n",
    "        predicted_r = 0\n",
    "        \n",
    "      df1.iloc[m,user_index] = predicted_r\n",
    "  recommend_movies(user,num_recommendation)"
   ]
  },
  {
   "cell_type": "code",
   "execution_count": 19,
   "metadata": {
    "colab": {
     "base_uri": "https://localhost:8080/"
    },
    "id": "vTyRBY0FlCar",
    "outputId": "0d2490b8-7214-471a-836b-a155385f3ca2"
   },
   "outputs": [
    {
     "name": "stdout",
     "output_type": "stream",
     "text": [
      "The list of the Movies user_4 Has Watched \n",
      "\n",
      "movie_0\n",
      "movie_5\n",
      "movie_6\n",
      "movie_7\n",
      "movie_8\n",
      "\n",
      "\n",
      "The list of the Recommended Movies \n",
      "\n",
      "1: movie_3 - predicted rating:3.504943460433221\n",
      "2: movie_2 - predicted rating:3.0283245929027296\n",
      "3: movie_1 - predicted rating:3.0\n",
      "4: movie_9 - predicted rating:2.473170201830165\n",
      "5: movie_4 - predicted rating:2.4658595597666277\n"
     ]
    }
   ],
   "source": [
    "movie_recommender('user_4', 4, 5)"
   ]
  },
  {
   "cell_type": "code",
   "execution_count": null,
   "metadata": {
    "id": "PgxOWZFalEg6"
   },
   "outputs": [],
   "source": []
  }
 ],
 "metadata": {
  "colab": {
   "provenance": []
  },
  "kernelspec": {
   "display_name": "Python 3.10.7 64-bit",
   "language": "python",
   "name": "python3"
  },
  "language_info": {
   "codemirror_mode": {
    "name": "ipython",
    "version": 3
   },
   "file_extension": ".py",
   "mimetype": "text/x-python",
   "name": "python",
   "nbconvert_exporter": "python",
   "pygments_lexer": "ipython3",
   "version": "3.10.7"
  },
  "vscode": {
   "interpreter": {
    "hash": "aee8b7b246df8f9039afb4144a1f6fd8d2ca17a180786b69acc140d282b71a49"
   }
  }
 },
 "nbformat": 4,
 "nbformat_minor": 0
}
